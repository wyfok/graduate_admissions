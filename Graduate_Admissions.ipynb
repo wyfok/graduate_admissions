{
 "cells": [
  {
   "cell_type": "markdown",
   "metadata": {},
   "source": [
    "# Graduate_admissions"
   ]
  },
  {
   "cell_type": "markdown",
   "metadata": {},
   "source": [
    "### This dataset is created for prediction of Graduate Admissions from an Indian perspective."
   ]
  },
  {
   "cell_type": "code",
   "execution_count": 205,
   "metadata": {},
   "outputs": [],
   "source": [
    "import numpy as np \n",
    "import pandas as pd \n",
    "import matplotlib.pyplot as plt \n",
    "import seaborn as sns \n",
    "from sklearn.model_selection import train_test_split\n",
    "from sklearn.preprocessing import StandardScaler\n",
    "from sklearn.linear_model import LinearRegression\n",
    "from sklearn.metrics import r2_score\n",
    "from sklearn.decomposition import PCA\n",
    "from keras import optimizers\n",
    "from keras.models import Sequential\n",
    "from keras.layers import Dense\n",
    "from keras.wrappers.scikit_learn import KerasRegressor"
   ]
  },
  {
   "cell_type": "markdown",
   "metadata": {},
   "source": [
    "## First look on data"
   ]
  },
  {
   "cell_type": "code",
   "execution_count": 206,
   "metadata": {},
   "outputs": [
    {
     "data": {
      "text/html": [
       "<div>\n",
       "<style scoped>\n",
       "    .dataframe tbody tr th:only-of-type {\n",
       "        vertical-align: middle;\n",
       "    }\n",
       "\n",
       "    .dataframe tbody tr th {\n",
       "        vertical-align: top;\n",
       "    }\n",
       "\n",
       "    .dataframe thead th {\n",
       "        text-align: right;\n",
       "    }\n",
       "</style>\n",
       "<table border=\"1\" class=\"dataframe\">\n",
       "  <thead>\n",
       "    <tr style=\"text-align: right;\">\n",
       "      <th></th>\n",
       "      <th>Serial No.</th>\n",
       "      <th>GRE Score</th>\n",
       "      <th>TOEFL Score</th>\n",
       "      <th>University Rating</th>\n",
       "      <th>SOP</th>\n",
       "      <th>LOR</th>\n",
       "      <th>CGPA</th>\n",
       "      <th>Research</th>\n",
       "      <th>Chance of Admit</th>\n",
       "    </tr>\n",
       "  </thead>\n",
       "  <tbody>\n",
       "    <tr>\n",
       "      <th>0</th>\n",
       "      <td>1</td>\n",
       "      <td>337</td>\n",
       "      <td>118</td>\n",
       "      <td>4</td>\n",
       "      <td>4.5</td>\n",
       "      <td>4.5</td>\n",
       "      <td>9.65</td>\n",
       "      <td>1</td>\n",
       "      <td>0.92</td>\n",
       "    </tr>\n",
       "    <tr>\n",
       "      <th>1</th>\n",
       "      <td>2</td>\n",
       "      <td>324</td>\n",
       "      <td>107</td>\n",
       "      <td>4</td>\n",
       "      <td>4.0</td>\n",
       "      <td>4.5</td>\n",
       "      <td>8.87</td>\n",
       "      <td>1</td>\n",
       "      <td>0.76</td>\n",
       "    </tr>\n",
       "    <tr>\n",
       "      <th>2</th>\n",
       "      <td>3</td>\n",
       "      <td>316</td>\n",
       "      <td>104</td>\n",
       "      <td>3</td>\n",
       "      <td>3.0</td>\n",
       "      <td>3.5</td>\n",
       "      <td>8.00</td>\n",
       "      <td>1</td>\n",
       "      <td>0.72</td>\n",
       "    </tr>\n",
       "    <tr>\n",
       "      <th>3</th>\n",
       "      <td>4</td>\n",
       "      <td>322</td>\n",
       "      <td>110</td>\n",
       "      <td>3</td>\n",
       "      <td>3.5</td>\n",
       "      <td>2.5</td>\n",
       "      <td>8.67</td>\n",
       "      <td>1</td>\n",
       "      <td>0.80</td>\n",
       "    </tr>\n",
       "    <tr>\n",
       "      <th>4</th>\n",
       "      <td>5</td>\n",
       "      <td>314</td>\n",
       "      <td>103</td>\n",
       "      <td>2</td>\n",
       "      <td>2.0</td>\n",
       "      <td>3.0</td>\n",
       "      <td>8.21</td>\n",
       "      <td>0</td>\n",
       "      <td>0.65</td>\n",
       "    </tr>\n",
       "  </tbody>\n",
       "</table>\n",
       "</div>"
      ],
      "text/plain": [
       "   Serial No.  GRE Score  TOEFL Score  University Rating  SOP  LOR   CGPA  \\\n",
       "0           1        337          118                  4  4.5   4.5  9.65   \n",
       "1           2        324          107                  4  4.0   4.5  8.87   \n",
       "2           3        316          104                  3  3.0   3.5  8.00   \n",
       "3           4        322          110                  3  3.5   2.5  8.67   \n",
       "4           5        314          103                  2  2.0   3.0  8.21   \n",
       "\n",
       "   Research  Chance of Admit   \n",
       "0         1              0.92  \n",
       "1         1              0.76  \n",
       "2         1              0.72  \n",
       "3         1              0.80  \n",
       "4         0              0.65  "
      ]
     },
     "execution_count": 206,
     "metadata": {},
     "output_type": "execute_result"
    }
   ],
   "source": [
    "data = pd.read_csv('Admission_Predict.csv')\n",
    "data.head()"
   ]
  },
  {
   "cell_type": "code",
   "execution_count": 207,
   "metadata": {},
   "outputs": [
    {
     "name": "stdout",
     "output_type": "stream",
     "text": [
      "<class 'pandas.core.frame.DataFrame'>\n",
      "RangeIndex: 500 entries, 0 to 499\n",
      "Data columns (total 9 columns):\n",
      "Serial No.           500 non-null int64\n",
      "GRE Score            500 non-null int64\n",
      "TOEFL Score          500 non-null int64\n",
      "University Rating    500 non-null int64\n",
      "SOP                  500 non-null float64\n",
      "LOR                  500 non-null float64\n",
      "CGPA                 500 non-null float64\n",
      "Research             500 non-null int64\n",
      "Chance of Admit      500 non-null float64\n",
      "dtypes: float64(4), int64(5)\n",
      "memory usage: 35.2 KB\n"
     ]
    }
   ],
   "source": [
    "data.info()"
   ]
  },
  {
   "cell_type": "markdown",
   "metadata": {},
   "source": [
    "First is to check if there are any missing values"
   ]
  },
  {
   "cell_type": "code",
   "execution_count": 208,
   "metadata": {},
   "outputs": [
    {
     "data": {
      "text/plain": [
       "Serial No.           False\n",
       "GRE Score            False\n",
       "TOEFL Score          False\n",
       "University Rating    False\n",
       "SOP                  False\n",
       "LOR                  False\n",
       "CGPA                 False\n",
       "Research             False\n",
       "Chance of Admit      False\n",
       "dtype: bool"
      ]
     },
     "execution_count": 208,
     "metadata": {},
     "output_type": "execute_result"
    }
   ],
   "source": [
    "data.isnull().any()"
   ]
  },
  {
   "cell_type": "markdown",
   "metadata": {},
   "source": [
    "So there is no missing value"
   ]
  },
  {
   "cell_type": "markdown",
   "metadata": {},
   "source": [
    "All attributes are in numeric format"
   ]
  },
  {
   "cell_type": "markdown",
   "metadata": {},
   "source": [
    "There is a attribute called Serial No. . If this attribute is unique then there is no predicting power and should be removed "
   ]
  },
  {
   "cell_type": "code",
   "execution_count": 209,
   "metadata": {},
   "outputs": [
    {
     "data": {
      "text/plain": [
       "500"
      ]
     },
     "execution_count": 209,
     "metadata": {},
     "output_type": "execute_result"
    }
   ],
   "source": [
    "len(set(data['Serial No.']))"
   ]
  },
  {
   "cell_type": "markdown",
   "metadata": {},
   "source": [
    "As all values are unique, this column can be removed"
   ]
  },
  {
   "cell_type": "code",
   "execution_count": 210,
   "metadata": {},
   "outputs": [],
   "source": [
    "data.drop('Serial No.',axis=1,inplace=True)"
   ]
  },
  {
   "cell_type": "markdown",
   "metadata": {},
   "source": [
    "Next step is to rename attribute name for easier processing "
   ]
  },
  {
   "cell_type": "code",
   "execution_count": 211,
   "metadata": {},
   "outputs": [
    {
     "name": "stdout",
     "output_type": "stream",
     "text": [
      "['GRE Score', 'TOEFL Score', 'University Rating', 'SOP', 'LOR ', 'CGPA', 'Research', 'Chance of Admit ']\n"
     ]
    }
   ],
   "source": [
    "print(list(data))"
   ]
  },
  {
   "cell_type": "code",
   "execution_count": 212,
   "metadata": {},
   "outputs": [],
   "source": [
    "data=data.rename(columns={'GRE Score':'GRE','TOEFL Score':'TOEFL','University Rating':'Rating','LOR ':'LOR','Chance of Admit ':'Chance'})"
   ]
  },
  {
   "cell_type": "code",
   "execution_count": 213,
   "metadata": {},
   "outputs": [
    {
     "data": {
      "text/html": [
       "<div>\n",
       "<style scoped>\n",
       "    .dataframe tbody tr th:only-of-type {\n",
       "        vertical-align: middle;\n",
       "    }\n",
       "\n",
       "    .dataframe tbody tr th {\n",
       "        vertical-align: top;\n",
       "    }\n",
       "\n",
       "    .dataframe thead th {\n",
       "        text-align: right;\n",
       "    }\n",
       "</style>\n",
       "<table border=\"1\" class=\"dataframe\">\n",
       "  <thead>\n",
       "    <tr style=\"text-align: right;\">\n",
       "      <th></th>\n",
       "      <th>GRE</th>\n",
       "      <th>TOEFL</th>\n",
       "      <th>Rating</th>\n",
       "      <th>SOP</th>\n",
       "      <th>LOR</th>\n",
       "      <th>CGPA</th>\n",
       "      <th>Research</th>\n",
       "      <th>Chance</th>\n",
       "    </tr>\n",
       "  </thead>\n",
       "  <tbody>\n",
       "    <tr>\n",
       "      <th>0</th>\n",
       "      <td>337</td>\n",
       "      <td>118</td>\n",
       "      <td>4</td>\n",
       "      <td>4.5</td>\n",
       "      <td>4.5</td>\n",
       "      <td>9.65</td>\n",
       "      <td>1</td>\n",
       "      <td>0.92</td>\n",
       "    </tr>\n",
       "    <tr>\n",
       "      <th>1</th>\n",
       "      <td>324</td>\n",
       "      <td>107</td>\n",
       "      <td>4</td>\n",
       "      <td>4.0</td>\n",
       "      <td>4.5</td>\n",
       "      <td>8.87</td>\n",
       "      <td>1</td>\n",
       "      <td>0.76</td>\n",
       "    </tr>\n",
       "    <tr>\n",
       "      <th>2</th>\n",
       "      <td>316</td>\n",
       "      <td>104</td>\n",
       "      <td>3</td>\n",
       "      <td>3.0</td>\n",
       "      <td>3.5</td>\n",
       "      <td>8.00</td>\n",
       "      <td>1</td>\n",
       "      <td>0.72</td>\n",
       "    </tr>\n",
       "    <tr>\n",
       "      <th>3</th>\n",
       "      <td>322</td>\n",
       "      <td>110</td>\n",
       "      <td>3</td>\n",
       "      <td>3.5</td>\n",
       "      <td>2.5</td>\n",
       "      <td>8.67</td>\n",
       "      <td>1</td>\n",
       "      <td>0.80</td>\n",
       "    </tr>\n",
       "    <tr>\n",
       "      <th>4</th>\n",
       "      <td>314</td>\n",
       "      <td>103</td>\n",
       "      <td>2</td>\n",
       "      <td>2.0</td>\n",
       "      <td>3.0</td>\n",
       "      <td>8.21</td>\n",
       "      <td>0</td>\n",
       "      <td>0.65</td>\n",
       "    </tr>\n",
       "  </tbody>\n",
       "</table>\n",
       "</div>"
      ],
      "text/plain": [
       "   GRE  TOEFL  Rating  SOP  LOR  CGPA  Research  Chance\n",
       "0  337    118       4  4.5  4.5  9.65         1    0.92\n",
       "1  324    107       4  4.0  4.5  8.87         1    0.76\n",
       "2  316    104       3  3.0  3.5  8.00         1    0.72\n",
       "3  322    110       3  3.5  2.5  8.67         1    0.80\n",
       "4  314    103       2  2.0  3.0  8.21         0    0.65"
      ]
     },
     "execution_count": 213,
     "metadata": {},
     "output_type": "execute_result"
    }
   ],
   "source": [
    "data.head()"
   ]
  },
  {
   "cell_type": "markdown",
   "metadata": {},
   "source": [
    "## Data exploration"
   ]
  },
  {
   "cell_type": "markdown",
   "metadata": {},
   "source": [
    "IT's time to explore the data \n",
    "<br>First is to see if any correlation"
   ]
  },
  {
   "cell_type": "code",
   "execution_count": 214,
   "metadata": {},
   "outputs": [
    {
     "data": {
      "text/plain": [
       "<matplotlib.axes._subplots.AxesSubplot at 0xe888fde10>"
      ]
     },
     "execution_count": 214,
     "metadata": {},
     "output_type": "execute_result"
    },
    {
     "data": {
      "image/png": "[encoded data removed]",
      "text/plain": [
       "<Figure size 432x288 with 2 Axes>"
      ]
     },
     "metadata": {},
     "output_type": "display_data"
    }
   ],
   "source": [
    "data_corr = data.corr()\n",
    "sns.heatmap(data_corr,annot=True)"
   ]
  },
  {
   "cell_type": "markdown",
   "metadata": {},
   "source": [
    "From correlation matrix, GRE, TOEFL and CGPA are highly correlated with Change. However, they themselves are also highly correlated with eath other. Therefore, it is possible to reduce data size for prediction without affecting prediction ability"
   ]
  },
  {
   "cell_type": "markdown",
   "metadata": {},
   "source": [
    "Then we will have a look on distrubution of all attributes"
   ]
  },
  {
   "cell_type": "code",
   "execution_count": 215,
   "metadata": {},
   "outputs": [
    {
     "data": {
      "image/png": "[encoded data removed]",
      "text/plain": [
       "<Figure size 432x288 with 1 Axes>"
      ]
     },
     "metadata": {},
     "output_type": "display_data"
    },
    {
     "data": {
      "image/png": "[encoded data removed]",
      "text/plain": [
       "<Figure size 432x288 with 1 Axes>"
      ]
     },
     "metadata": {},
     "output_type": "display_data"
    },
    {
     "data": {
      "image/png": "[encoded data removed]",
      "text/plain": [
       "<Figure size 432x288 with 1 Axes>"
      ]
     },
     "metadata": {},
     "output_type": "display_data"
    },
    {
     "data": {
      "image/png": "[encoded data removed]",
      "text/plain": [
       "<Figure size 432x288 with 1 Axes>"
      ]
     },
     "metadata": {},
     "output_type": "display_data"
    },
    {
     "data": {
      "image/png": "[encoded data removed]",
      "text/plain": [
       "<Figure size 432x288 with 1 Axes>"
      ]
     },
     "metadata": {},
     "output_type": "display_data"
    },
    {
     "data": {
      "image/png": "[encoded data removed]",
      "text/plain": [
       "<Figure size 432x288 with 1 Axes>"
      ]
     },
     "metadata": {},
     "output_type": "display_data"
    },
    {
     "data": {
      "image/png": "[encoded data removed]",
      "text/plain": [
       "<Figure size 432x288 with 1 Axes>"
      ]
     },
     "metadata": {},
     "output_type": "display_data"
    },
    {
     "data": {
      "image/png": "[encoded data removed]",
      "text/plain": [
       "<Figure size 432x288 with 1 Axes>"
      ]
     },
     "metadata": {},
     "output_type": "display_data"
    }
   ],
   "source": [
    "for name in list(data):\n",
    "    data[name].hist()\n",
    "    plt.title('Distribution of {}'.format(name))\n",
    "    plt.show()"
   ]
  },
  {
   "cell_type": "markdown",
   "metadata": {},
   "source": [
    "For GRE, TOEFL, and CGPA, the distrubutions look like normal distribution.\n",
    "<br>One particular funding is that the shape of histogram for chance is not in a bell shape."
   ]
  },
  {
   "cell_type": "markdown",
   "metadata": {},
   "source": [
    "To better understand the relation between chance of admission and other attributes, scatter plots are performed "
   ]
  },
  {
   "cell_type": "code",
   "execution_count": 216,
   "metadata": {},
   "outputs": [
    {
     "data": {
      "image/png": "[encoded data removed]",
      "text/plain": [
       "<Figure size 432x288 with 1 Axes>"
      ]
     },
     "metadata": {},
     "output_type": "display_data"
    },
    {
     "data": {
      "image/png": "[encoded data removed]",
      "text/plain": [
       "<Figure size 432x288 with 1 Axes>"
      ]
     },
     "metadata": {},
     "output_type": "display_data"
    },
    {
     "data": {
      "image/png": "[encoded data removed]",
      "text/plain": [
       "<Figure size 432x288 with 1 Axes>"
      ]
     },
     "metadata": {},
     "output_type": "display_data"
    },
    {
     "data": {
      "image/png": "[encoded data removed]",
      "text/plain": [
       "<Figure size 432x288 with 1 Axes>"
      ]
     },
     "metadata": {},
     "output_type": "display_data"
    },
    {
     "data": {
      "image/png": "[encoded data removed]",
      "text/plain": [
       "<Figure size 432x288 with 1 Axes>"
      ]
     },
     "metadata": {},
     "output_type": "display_data"
    },
    {
     "data": {
      "image/png": "[encoded data removed]",
      "text/plain": [
       "<Figure size 432x288 with 1 Axes>"
      ]
     },
     "metadata": {},
     "output_type": "display_data"
    },
    {
     "data": {
      "image/png": "[encoded data removed]",
      "text/plain": [
       "<Figure size 432x288 with 1 Axes>"
      ]
     },
     "metadata": {},
     "output_type": "display_data"
    }
   ],
   "source": [
    "col_name = list(data)\n",
    "col_name.remove('Chance') \n",
    "for name in col_name:\n",
    "    plt.scatter(data[name],data['Chance'])\n",
    "    plt.title('Scatter plot between {} and Chance'.format(name))\n",
    "    plt.show()"
   ]
  },
  {
   "cell_type": "markdown",
   "metadata": {},
   "source": [
    "Since Research is either 0 or 1, another boxplot is performed for better presentation"
   ]
  },
  {
   "cell_type": "code",
   "execution_count": 217,
   "metadata": {},
   "outputs": [
    {
     "data": {
      "text/plain": [
       "<matplotlib.axes._subplots.AxesSubplot at 0xe876d2978>"
      ]
     },
     "execution_count": 217,
     "metadata": {},
     "output_type": "execute_result"
    },
    {
     "data": {
      "image/png": "[encoded data removed]",
      "text/plain": [
       "<Figure size 432x288 with 1 Axes>"
      ]
     },
     "metadata": {},
     "output_type": "display_data"
    }
   ],
   "source": [
    "data.boxplot(column='Chance',by='Research')"
   ]
  },
  {
   "cell_type": "markdown",
   "metadata": {},
   "source": [
    "all independent aattributes are positive correlated with Chance. Same findings as correlation matrix "
   ]
  },
  {
   "cell_type": "markdown",
   "metadata": {},
   "source": [
    "## Prediction"
   ]
  },
  {
   "cell_type": "markdown",
   "metadata": {},
   "source": [
    "Next is to start prediction\n",
    "<br>First is to separate training data and testing data "
   ]
  },
  {
   "cell_type": "code",
   "execution_count": 218,
   "metadata": {},
   "outputs": [],
   "source": [
    "x=data.drop('Chance',axis=1)\n",
    "y=data['Chance']\n",
    "x_train, x_test,y_train, y_test = train_test_split(x,y,test_size = 0.20,random_state = 42)"
   ]
  },
  {
   "cell_type": "markdown",
   "metadata": {},
   "source": [
    "Second is to standardize independent data "
   ]
  },
  {
   "cell_type": "code",
   "execution_count": 219,
   "metadata": {},
   "outputs": [],
   "source": [
    "scaler=StandardScaler()\n",
    "x_train=scaler.fit_transform(x_train)\n",
    "x_test=scaler.transform(x_test)"
   ]
  },
  {
   "cell_type": "markdown",
   "metadata": {},
   "source": [
    "First model is linear regression"
   ]
  },
  {
   "cell_type": "code",
   "execution_count": 220,
   "metadata": {},
   "outputs": [],
   "source": [
    "reg=LinearRegression().fit(x_train,y_train)"
   ]
  },
  {
   "cell_type": "code",
   "execution_count": 221,
   "metadata": {},
   "outputs": [
    {
     "data": {
      "text/plain": [
       "0.8210671369321554"
      ]
     },
     "execution_count": 221,
     "metadata": {},
     "output_type": "execute_result"
    }
   ],
   "source": [
    "reg.score(x_train,y_train)"
   ]
  },
  {
   "cell_type": "code",
   "execution_count": 222,
   "metadata": {},
   "outputs": [
    {
     "data": {
      "text/plain": [
       "array([0.02667052, 0.01822633, 0.00293995, 0.001788  , 0.0158655 ,\n",
       "       0.06758106, 0.01194049])"
      ]
     },
     "execution_count": 222,
     "metadata": {},
     "output_type": "execute_result"
    }
   ],
   "source": [
    "reg.coef_"
   ]
  },
  {
   "cell_type": "code",
   "execution_count": 223,
   "metadata": {},
   "outputs": [
    {
     "name": "stdout",
     "output_type": "stream",
     "text": [
      "R^2 is 0.8188432567829628\n"
     ]
    }
   ],
   "source": [
    "print('R^2 is {}'.format(reg.score(x_test,y_test)))"
   ]
  },
  {
   "cell_type": "markdown",
   "metadata": {},
   "source": [
    "R square means the percentage of variation explained by the regression model.\n",
    "<br>So 82% of variation are captured by the model \n",
    "<br>Not bad "
   ]
  },
  {
   "cell_type": "markdown",
   "metadata": {},
   "source": [
    "Next is to use neural network"
   ]
  },
  {
   "cell_type": "code",
   "execution_count": 224,
   "metadata": {},
   "outputs": [
    {
     "name": "stdout",
     "output_type": "stream",
     "text": [
      "Epoch 1/200\n",
      "400/400 [==============================] - 0s 510us/step - loss: 0.0176\n",
      "Epoch 2/200\n",
      "400/400 [==============================] - 0s 38us/step - loss: 0.0093\n",
      "Epoch 3/200\n",
      "400/400 [==============================] - 0s 37us/step - loss: 0.0072\n",
      "Epoch 4/200\n",
      "400/400 [==============================] - 0s 38us/step - loss: 0.0065\n",
      "Epoch 5/200\n",
      "400/400 [==============================] - 0s 37us/step - loss: 0.0056\n",
      "Epoch 6/200\n",
      "400/400 [==============================] - 0s 38us/step - loss: 0.0052\n",
      "Epoch 7/200\n",
      "400/400 [==============================] - 0s 38us/step - loss: 0.0060\n",
      "Epoch 8/200\n",
      "400/400 [==============================] - 0s 35us/step - loss: 0.0051\n",
      "Epoch 9/200\n",
      "400/400 [==============================] - 0s 40us/step - loss: 0.0048\n",
      "Epoch 10/200\n",
      "400/400 [==============================] - 0s 37us/step - loss: 0.0052\n",
      "Epoch 11/200\n",
      "400/400 [==============================] - 0s 37us/step - loss: 0.0051\n",
      "Epoch 12/200\n",
      "400/400 [==============================] - 0s 37us/step - loss: 0.0048\n",
      "Epoch 13/200\n",
      "400/400 [==============================] - 0s 40us/step - loss: 0.0052\n",
      "Epoch 14/200\n",
      "400/400 [==============================] - 0s 38us/step - loss: 0.0050\n",
      "Epoch 15/200\n",
      "400/400 [==============================] - 0s 37us/step - loss: 0.0049\n",
      "Epoch 16/200\n",
      "400/400 [==============================] - 0s 38us/step - loss: 0.0047\n",
      "Epoch 17/200\n",
      "400/400 [==============================] - 0s 40us/step - loss: 0.0049\n",
      "Epoch 18/200\n",
      "400/400 [==============================] - 0s 38us/step - loss: 0.0050\n",
      "Epoch 19/200\n",
      "400/400 [==============================] - 0s 38us/step - loss: 0.0049\n",
      "Epoch 20/200\n",
      "400/400 [==============================] - 0s 38us/step - loss: 0.0046\n",
      "Epoch 21/200\n",
      "400/400 [==============================] - 0s 35us/step - loss: 0.0044\n",
      "Epoch 22/200\n",
      "400/400 [==============================] - 0s 37us/step - loss: 0.0049\n",
      "Epoch 23/200\n",
      "400/400 [==============================] - 0s 40us/step - loss: 0.0044\n",
      "Epoch 24/200\n",
      "400/400 [==============================] - 0s 37us/step - loss: 0.0045\n",
      "Epoch 25/200\n",
      "400/400 [==============================] - 0s 40us/step - loss: 0.0043\n",
      "Epoch 26/200\n",
      "400/400 [==============================] - 0s 37us/step - loss: 0.0043\n",
      "Epoch 27/200\n",
      "400/400 [==============================] - 0s 40us/step - loss: 0.0047\n",
      "Epoch 28/200\n",
      "400/400 [==============================] - 0s 40us/step - loss: 0.0043\n",
      "Epoch 29/200\n",
      "400/400 [==============================] - 0s 40us/step - loss: 0.0045\n",
      "Epoch 30/200\n",
      "400/400 [==============================] - 0s 40us/step - loss: 0.0047\n",
      "Epoch 31/200\n",
      "400/400 [==============================] - 0s 35us/step - loss: 0.0047\n",
      "Epoch 32/200\n",
      "400/400 [==============================] - 0s 42us/step - loss: 0.0039\n",
      "Epoch 33/200\n",
      "400/400 [==============================] - 0s 37us/step - loss: 0.0047\n",
      "Epoch 34/200\n",
      "400/400 [==============================] - 0s 38us/step - loss: 0.0043\n",
      "Epoch 35/200\n",
      "400/400 [==============================] - 0s 35us/step - loss: 0.0044\n",
      "Epoch 36/200\n",
      "400/400 [==============================] - 0s 40us/step - loss: 0.0043\n",
      "Epoch 37/200\n",
      "400/400 [==============================] - 0s 37us/step - loss: 0.0042\n",
      "Epoch 38/200\n",
      "400/400 [==============================] - 0s 42us/step - loss: 0.0041\n",
      "Epoch 39/200\n",
      "400/400 [==============================] - 0s 42us/step - loss: 0.0041\n",
      "Epoch 40/200\n",
      "400/400 [==============================] - 0s 40us/step - loss: 0.0041\n",
      "Epoch 41/200\n",
      "400/400 [==============================] - 0s 40us/step - loss: 0.0037\n",
      "Epoch 42/200\n",
      "400/400 [==============================] - 0s 46us/step - loss: 0.0044\n",
      "Epoch 43/200\n",
      "400/400 [==============================] - 0s 37us/step - loss: 0.0042\n",
      "Epoch 44/200\n",
      "400/400 [==============================] - 0s 37us/step - loss: 0.0037\n",
      "Epoch 45/200\n",
      "400/400 [==============================] - 0s 45us/step - loss: 0.0043\n",
      "Epoch 46/200\n",
      "400/400 [==============================] - 0s 34us/step - loss: 0.0042\n",
      "Epoch 47/200\n",
      "400/400 [==============================] - 0s 40us/step - loss: 0.0041\n",
      "Epoch 48/200\n",
      "400/400 [==============================] - 0s 40us/step - loss: 0.0042\n",
      "Epoch 49/200\n",
      "400/400 [==============================] - 0s 45us/step - loss: 0.0042\n",
      "Epoch 50/200\n",
      "400/400 [==============================] - 0s 38us/step - loss: 0.0041\n",
      "Epoch 51/200\n",
      "400/400 [==============================] - 0s 38us/step - loss: 0.0040\n",
      "Epoch 52/200\n",
      "400/400 [==============================] - 0s 38us/step - loss: 0.0039\n",
      "Epoch 53/200\n",
      "400/400 [==============================] - 0s 38us/step - loss: 0.0039\n",
      "Epoch 54/200\n",
      "400/400 [==============================] - 0s 45us/step - loss: 0.0039\n",
      "Epoch 55/200\n",
      "400/400 [==============================] - 0s 37us/step - loss: 0.0044\n",
      "Epoch 56/200\n",
      "400/400 [==============================] - 0s 37us/step - loss: 0.0035\n",
      "Epoch 57/200\n",
      "400/400 [==============================] - 0s 42us/step - loss: 0.0041\n",
      "Epoch 58/200\n",
      "400/400 [==============================] - 0s 38us/step - loss: 0.0041\n",
      "Epoch 59/200\n",
      "400/400 [==============================] - 0s 35us/step - loss: 0.0045\n",
      "Epoch 60/200\n",
      "400/400 [==============================] - 0s 40us/step - loss: 0.0036\n",
      "Epoch 61/200\n",
      "400/400 [==============================] - 0s 35us/step - loss: 0.0041\n",
      "Epoch 62/200\n",
      "400/400 [==============================] - 0s 35us/step - loss: 0.0040\n",
      "Epoch 63/200\n",
      "400/400 [==============================] - 0s 35us/step - loss: 0.0039\n",
      "Epoch 64/200\n",
      "400/400 [==============================] - 0s 35us/step - loss: 0.0041\n",
      "Epoch 65/200\n",
      "400/400 [==============================] - 0s 35us/step - loss: 0.0036\n",
      "Epoch 66/200\n",
      "400/400 [==============================] - 0s 37us/step - loss: 0.0039\n",
      "Epoch 67/200\n",
      "400/400 [==============================] - 0s 35us/step - loss: 0.0041\n",
      "Epoch 68/200\n",
      "400/400 [==============================] - 0s 38us/step - loss: 0.0035\n",
      "Epoch 69/200\n",
      "400/400 [==============================] - 0s 35us/step - loss: 0.0040\n",
      "Epoch 70/200\n",
      "400/400 [==============================] - 0s 37us/step - loss: 0.0037\n",
      "Epoch 71/200\n",
      "400/400 [==============================] - 0s 35us/step - loss: 0.0039\n",
      "Epoch 72/200\n",
      "400/400 [==============================] - 0s 35us/step - loss: 0.0036\n",
      "Epoch 73/200\n",
      "400/400 [==============================] - 0s 35us/step - loss: 0.0036\n",
      "Epoch 74/200\n",
      "400/400 [==============================] - 0s 35us/step - loss: 0.0045\n",
      "Epoch 75/200\n",
      "400/400 [==============================] - 0s 35us/step - loss: 0.0035\n",
      "Epoch 76/200\n",
      "400/400 [==============================] - 0s 37us/step - loss: 0.0038\n",
      "Epoch 77/200\n",
      "400/400 [==============================] - 0s 35us/step - loss: 0.0039\n",
      "Epoch 78/200\n",
      "400/400 [==============================] - 0s 37us/step - loss: 0.0035\n",
      "Epoch 79/200\n",
      "400/400 [==============================] - 0s 38us/step - loss: 0.0037\n",
      "Epoch 80/200\n",
      "400/400 [==============================] - 0s 32us/step - loss: 0.0039\n",
      "Epoch 81/200\n",
      "400/400 [==============================] - 0s 35us/step - loss: 0.0038\n",
      "Epoch 82/200\n",
      "400/400 [==============================] - 0s 35us/step - loss: 0.0037\n",
      "Epoch 83/200\n",
      "400/400 [==============================] - 0s 35us/step - loss: 0.0037\n",
      "Epoch 84/200\n",
      "400/400 [==============================] - 0s 38us/step - loss: 0.0038\n",
      "Epoch 85/200\n",
      "400/400 [==============================] - 0s 35us/step - loss: 0.0037\n",
      "Epoch 86/200\n",
      "400/400 [==============================] - 0s 35us/step - loss: 0.0037\n",
      "Epoch 87/200\n",
      "400/400 [==============================] - 0s 35us/step - loss: 0.0040\n",
      "Epoch 88/200\n",
      "400/400 [==============================] - 0s 35us/step - loss: 0.0036\n",
      "Epoch 89/200\n",
      "400/400 [==============================] - 0s 35us/step - loss: 0.0039\n",
      "Epoch 90/200\n",
      "400/400 [==============================] - 0s 35us/step - loss: 0.0035\n",
      "Epoch 91/200\n",
      "400/400 [==============================] - 0s 35us/step - loss: 0.0036\n",
      "Epoch 92/200\n",
      "400/400 [==============================] - 0s 35us/step - loss: 0.0039\n",
      "Epoch 93/200\n",
      "400/400 [==============================] - 0s 35us/step - loss: 0.0034\n",
      "Epoch 94/200\n",
      "400/400 [==============================] - 0s 35us/step - loss: 0.0037\n",
      "Epoch 95/200\n",
      "400/400 [==============================] - 0s 37us/step - loss: 0.0040\n",
      "Epoch 96/200\n",
      "400/400 [==============================] - 0s 35us/step - loss: 0.0035\n",
      "Epoch 97/200\n",
      "400/400 [==============================] - 0s 33us/step - loss: 0.0037\n",
      "Epoch 98/200\n"
     ]
    },
    {
     "name": "stdout",
     "output_type": "stream",
     "text": [
      "400/400 [==============================] - 0s 35us/step - loss: 0.0038\n",
      "Epoch 99/200\n",
      "400/400 [==============================] - 0s 35us/step - loss: 0.0035\n",
      "Epoch 100/200\n",
      "400/400 [==============================] - 0s 33us/step - loss: 0.0037\n",
      "Epoch 101/200\n",
      "400/400 [==============================] - 0s 35us/step - loss: 0.0039\n",
      "Epoch 102/200\n",
      "400/400 [==============================] - 0s 35us/step - loss: 0.0035\n",
      "Epoch 103/200\n",
      "400/400 [==============================] - 0s 35us/step - loss: 0.0035\n",
      "Epoch 104/200\n",
      "400/400 [==============================] - 0s 35us/step - loss: 0.0037\n",
      "Epoch 105/200\n",
      "400/400 [==============================] - 0s 35us/step - loss: 0.0035\n",
      "Epoch 106/200\n",
      "400/400 [==============================] - 0s 35us/step - loss: 0.0036\n",
      "Epoch 107/200\n",
      "400/400 [==============================] - 0s 35us/step - loss: 0.0037\n",
      "Epoch 108/200\n",
      "400/400 [==============================] - 0s 35us/step - loss: 0.0038\n",
      "Epoch 109/200\n",
      "400/400 [==============================] - 0s 35us/step - loss: 0.0038\n",
      "Epoch 110/200\n",
      "400/400 [==============================] - 0s 38us/step - loss: 0.0035\n",
      "Epoch 111/200\n",
      "400/400 [==============================] - 0s 37us/step - loss: 0.0036\n",
      "Epoch 112/200\n",
      "400/400 [==============================] - 0s 32us/step - loss: 0.0036\n",
      "Epoch 113/200\n",
      "400/400 [==============================] - 0s 32us/step - loss: 0.0035\n",
      "Epoch 114/200\n",
      "400/400 [==============================] - 0s 35us/step - loss: 0.0035\n",
      "Epoch 115/200\n",
      "400/400 [==============================] - 0s 35us/step - loss: 0.0038\n",
      "Epoch 116/200\n",
      "400/400 [==============================] - 0s 35us/step - loss: 0.0038\n",
      "Epoch 117/200\n",
      "400/400 [==============================] - 0s 35us/step - loss: 0.0036\n",
      "Epoch 118/200\n",
      "400/400 [==============================] - 0s 38us/step - loss: 0.0037\n",
      "Epoch 119/200\n",
      "400/400 [==============================] - 0s 35us/step - loss: 0.0033\n",
      "Epoch 120/200\n",
      "400/400 [==============================] - 0s 35us/step - loss: 0.0039\n",
      "Epoch 121/200\n",
      "400/400 [==============================] - 0s 33us/step - loss: 0.0033\n",
      "Epoch 122/200\n",
      "400/400 [==============================] - 0s 35us/step - loss: 0.0038\n",
      "Epoch 123/200\n",
      "400/400 [==============================] - 0s 37us/step - loss: 0.0033\n",
      "Epoch 124/200\n",
      "400/400 [==============================] - 0s 38us/step - loss: 0.0039\n",
      "Epoch 125/200\n",
      "400/400 [==============================] - 0s 35us/step - loss: 0.0036\n",
      "Epoch 126/200\n",
      "400/400 [==============================] - 0s 35us/step - loss: 0.0034\n",
      "Epoch 127/200\n",
      "400/400 [==============================] - 0s 35us/step - loss: 0.0036\n",
      "Epoch 128/200\n",
      "400/400 [==============================] - 0s 35us/step - loss: 0.0034\n",
      "Epoch 129/200\n",
      "400/400 [==============================] - 0s 35us/step - loss: 0.0036\n",
      "Epoch 130/200\n",
      "400/400 [==============================] - 0s 37us/step - loss: 0.0035\n",
      "Epoch 131/200\n",
      "400/400 [==============================] - 0s 35us/step - loss: 0.0034\n",
      "Epoch 132/200\n",
      "400/400 [==============================] - 0s 35us/step - loss: 0.0034\n",
      "Epoch 133/200\n",
      "400/400 [==============================] - 0s 35us/step - loss: 0.0035\n",
      "Epoch 134/200\n",
      "400/400 [==============================] - 0s 35us/step - loss: 0.0033\n",
      "Epoch 135/200\n",
      "400/400 [==============================] - 0s 37us/step - loss: 0.0036\n",
      "Epoch 136/200\n",
      "400/400 [==============================] - 0s 38us/step - loss: 0.0034\n",
      "Epoch 137/200\n",
      "400/400 [==============================] - 0s 37us/step - loss: 0.0035\n",
      "Epoch 138/200\n",
      "400/400 [==============================] - 0s 37us/step - loss: 0.0036\n",
      "Epoch 139/200\n",
      "400/400 [==============================] - 0s 35us/step - loss: 0.0035\n",
      "Epoch 140/200\n",
      "400/400 [==============================] - 0s 35us/step - loss: 0.0035\n",
      "Epoch 141/200\n",
      "400/400 [==============================] - 0s 35us/step - loss: 0.0034\n",
      "Epoch 142/200\n",
      "400/400 [==============================] - 0s 38us/step - loss: 0.0036\n",
      "Epoch 143/200\n",
      "400/400 [==============================] - 0s 35us/step - loss: 0.0037\n",
      "Epoch 144/200\n",
      "400/400 [==============================] - 0s 37us/step - loss: 0.0033\n",
      "Epoch 145/200\n",
      "400/400 [==============================] - 0s 37us/step - loss: 0.0036\n",
      "Epoch 146/200\n",
      "400/400 [==============================] - 0s 38us/step - loss: 0.0031\n",
      "Epoch 147/200\n",
      "400/400 [==============================] - 0s 35us/step - loss: 0.0034\n",
      "Epoch 148/200\n",
      "400/400 [==============================] - 0s 35us/step - loss: 0.0037\n",
      "Epoch 149/200\n",
      "400/400 [==============================] - 0s 35us/step - loss: 0.0036\n",
      "Epoch 150/200\n",
      "400/400 [==============================] - 0s 38us/step - loss: 0.0035\n",
      "Epoch 151/200\n",
      "400/400 [==============================] - 0s 35us/step - loss: 0.0034\n",
      "Epoch 152/200\n",
      "400/400 [==============================] - 0s 37us/step - loss: 0.0035\n",
      "Epoch 153/200\n",
      "400/400 [==============================] - 0s 35us/step - loss: 0.0035\n",
      "Epoch 154/200\n",
      "400/400 [==============================] - 0s 35us/step - loss: 0.0034\n",
      "Epoch 155/200\n",
      "400/400 [==============================] - 0s 35us/step - loss: 0.0034\n",
      "Epoch 156/200\n",
      "400/400 [==============================] - 0s 37us/step - loss: 0.0034\n",
      "Epoch 157/200\n",
      "400/400 [==============================] - 0s 37us/step - loss: 0.0032\n",
      "Epoch 158/200\n",
      "400/400 [==============================] - 0s 37us/step - loss: 0.0034\n",
      "Epoch 159/200\n",
      "400/400 [==============================] - 0s 38us/step - loss: 0.0036\n",
      "Epoch 160/200\n",
      "400/400 [==============================] - 0s 35us/step - loss: 0.0035\n",
      "Epoch 161/200\n",
      "400/400 [==============================] - 0s 35us/step - loss: 0.0033\n",
      "Epoch 162/200\n",
      "400/400 [==============================] - 0s 35us/step - loss: 0.0036\n",
      "Epoch 163/200\n",
      "400/400 [==============================] - 0s 35us/step - loss: 0.0033\n",
      "Epoch 164/200\n",
      "400/400 [==============================] - 0s 35us/step - loss: 0.0035\n",
      "Epoch 165/200\n",
      "400/400 [==============================] - 0s 35us/step - loss: 0.0033\n",
      "Epoch 166/200\n",
      "400/400 [==============================] - 0s 35us/step - loss: 0.0035\n",
      "Epoch 167/200\n",
      "400/400 [==============================] - 0s 35us/step - loss: 0.0034\n",
      "Epoch 168/200\n",
      "400/400 [==============================] - 0s 38us/step - loss: 0.0036\n",
      "Epoch 169/200\n",
      "400/400 [==============================] - 0s 37us/step - loss: 0.0034\n",
      "Epoch 170/200\n",
      "400/400 [==============================] - 0s 38us/step - loss: 0.0034\n",
      "Epoch 171/200\n",
      "400/400 [==============================] - 0s 37us/step - loss: 0.0033\n",
      "Epoch 172/200\n",
      "400/400 [==============================] - 0s 35us/step - loss: 0.0033\n",
      "Epoch 173/200\n",
      "400/400 [==============================] - 0s 38us/step - loss: 0.0034\n",
      "Epoch 174/200\n",
      "400/400 [==============================] - 0s 37us/step - loss: 0.0034\n",
      "Epoch 175/200\n",
      "400/400 [==============================] - 0s 35us/step - loss: 0.0034\n",
      "Epoch 176/200\n",
      "400/400 [==============================] - 0s 35us/step - loss: 0.0033\n",
      "Epoch 177/200\n",
      "400/400 [==============================] - 0s 35us/step - loss: 0.0034\n",
      "Epoch 178/200\n",
      "400/400 [==============================] - 0s 37us/step - loss: 0.0033\n",
      "Epoch 179/200\n",
      "400/400 [==============================] - 0s 35us/step - loss: 0.0035\n",
      "Epoch 180/200\n",
      "400/400 [==============================] - 0s 35us/step - loss: 0.0033\n",
      "Epoch 181/200\n",
      "400/400 [==============================] - 0s 38us/step - loss: 0.0033\n",
      "Epoch 182/200\n",
      "400/400 [==============================] - 0s 35us/step - loss: 0.0033\n",
      "Epoch 183/200\n",
      "400/400 [==============================] - 0s 35us/step - loss: 0.0034\n",
      "Epoch 184/200\n",
      "400/400 [==============================] - 0s 35us/step - loss: 0.0033\n",
      "Epoch 185/200\n",
      "400/400 [==============================] - 0s 37us/step - loss: 0.0034\n",
      "Epoch 186/200\n",
      "400/400 [==============================] - 0s 35us/step - loss: 0.0032\n",
      "Epoch 187/200\n",
      "400/400 [==============================] - 0s 35us/step - loss: 0.0034\n",
      "Epoch 188/200\n",
      "400/400 [==============================] - 0s 35us/step - loss: 0.0036\n",
      "Epoch 189/200\n",
      "400/400 [==============================] - 0s 37us/step - loss: 0.0031\n",
      "Epoch 190/200\n",
      "400/400 [==============================] - 0s 35us/step - loss: 0.0034\n",
      "Epoch 191/200\n",
      "400/400 [==============================] - 0s 37us/step - loss: 0.0032\n",
      "Epoch 192/200\n",
      "400/400 [==============================] - 0s 35us/step - loss: 0.0032\n",
      "Epoch 193/200\n",
      "400/400 [==============================] - 0s 35us/step - loss: 0.0035\n",
      "Epoch 194/200\n"
     ]
    },
    {
     "name": "stdout",
     "output_type": "stream",
     "text": [
      "400/400 [==============================] - 0s 35us/step - loss: 0.0033\n",
      "Epoch 195/200\n",
      "400/400 [==============================] - 0s 35us/step - loss: 0.0032\n",
      "Epoch 196/200\n",
      "400/400 [==============================] - 0s 35us/step - loss: 0.0034\n",
      "Epoch 197/200\n",
      "400/400 [==============================] - 0s 35us/step - loss: 0.0033\n",
      "Epoch 198/200\n",
      "400/400 [==============================] - 0s 35us/step - loss: 0.0032\n",
      "Epoch 199/200\n",
      "400/400 [==============================] - 0s 35us/step - loss: 0.0032\n",
      "Epoch 200/200\n",
      "400/400 [==============================] - 0s 35us/step - loss: 0.0033\n"
     ]
    },
    {
     "data": {
      "text/plain": [
       "<keras.callbacks.History at 0xe83a12c18>"
      ]
     },
     "execution_count": 224,
     "metadata": {},
     "output_type": "execute_result"
    }
   ],
   "source": [
    "def keralmodel():\n",
    "    model = Sequential()\n",
    "    model.add(Dense(7,input_dim=7,kernel_initializer='normal',activation='sigmoid'))\n",
    "    model.add(Dense(3,kernel_initializer='normal',activation='sigmoid'))\n",
    "    model.add(Dense(1,kernel_initializer='normal',activation='sigmoid'))\n",
    "    model.compile(optimizer=optimizers.RMSprop(lr=0.05),loss='mean_squared_error')\n",
    "    return model\n",
    "\n",
    "estimator=KerasRegressor(build_fn=keralmodel, epochs=200 )\n",
    "estimator.fit(x_train,y_train)"
   ]
  },
  {
   "cell_type": "code",
   "execution_count": 225,
   "metadata": {},
   "outputs": [
    {
     "data": {
      "text/plain": [
       "0.7842812712805725"
      ]
     },
     "execution_count": 225,
     "metadata": {},
     "output_type": "execute_result"
    }
   ],
   "source": [
    "y_predict=estimator.predict(x_test)\n",
    "r2_score(y_test,y_predict)"
   ]
  },
  {
   "cell_type": "markdown",
   "metadata": {},
   "source": [
    "So 76% of variation are captured by the model <br>\n",
    "Worse than simple linear regression "
   ]
  },
  {
   "cell_type": "markdown",
   "metadata": {},
   "source": [
    "As said before, GPA, TOEFL and CGPA are highly correlated and it is possible to reduce data size without harming prediction\n",
    "<br>As a result, principal component analysis is carried out "
   ]
  },
  {
   "cell_type": "code",
   "execution_count": 226,
   "metadata": {},
   "outputs": [],
   "source": [
    "pca = PCA()"
   ]
  },
  {
   "cell_type": "markdown",
   "metadata": {},
   "source": [
    "But first need to normalize data"
   ]
  },
  {
   "cell_type": "code",
   "execution_count": 227,
   "metadata": {},
   "outputs": [],
   "source": [
    "standard=StandardScaler()\n",
    "data_norm=standard.fit_transform(data)\n",
    "x=data.drop('Chance',axis=1)\n",
    "y=data['Chance']\n",
    "x_norm=standard.fit_transform(x)\n",
    "x_norm=pd.DataFrame(data=X_norm,columns=x.columns)\n"
   ]
  },
  {
   "cell_type": "code",
   "execution_count": 228,
   "metadata": {},
   "outputs": [
    {
     "data": {
      "text/plain": [
       "PCA(copy=True, iterated_power='auto', n_components=None, random_state=None,\n",
       "  svd_solver='auto', tol=0.0, whiten=False)"
      ]
     },
     "execution_count": 228,
     "metadata": {},
     "output_type": "execute_result"
    }
   ],
   "source": [
    "pca.fit(x_norm)"
   ]
  },
  {
   "cell_type": "code",
   "execution_count": 229,
   "metadata": {},
   "outputs": [
    {
     "data": {
      "text/plain": [
       "array([0.67519343, 0.78115789, 0.86139044, 0.91572834, 0.95339642,\n",
       "       0.97886487, 1.        ])"
      ]
     },
     "execution_count": 229,
     "metadata": {},
     "output_type": "execute_result"
    }
   ],
   "source": [
    "pca.explained_variance_ratio_.cumsum()"
   ]
  },
  {
   "cell_type": "markdown",
   "metadata": {},
   "source": [
    "Not suprisingly, four attributes can explain over 90% of variation\n",
    "<br>As a result, four out of seven will be extracted perform linear regression and neural network again"
   ]
  },
  {
   "cell_type": "code",
   "execution_count": 230,
   "metadata": {},
   "outputs": [],
   "source": [
    "pca_result=pd.DataFrame(data=pca.components_, columns=x_norm.columns)\n",
    "pca_result=abs(pca_result[:5])\n",
    "pca_result_t=pca_result.transpose()\n"
   ]
  },
  {
   "cell_type": "code",
   "execution_count": 231,
   "metadata": {},
   "outputs": [
    {
     "name": "stdout",
     "output_type": "stream",
     "text": [
      "CGPA      0.421037\n",
      "GRE       0.403617\n",
      "TOEFL     0.401203\n",
      "SOP       0.384662\n",
      "Rating    0.383413\n",
      "Name: 0, dtype: float64\n",
      "Research    0.741821\n",
      "LOR         0.426027\n",
      "SOP         0.343434\n",
      "GRE         0.274523\n",
      "Rating      0.249775\n",
      "Name: 1, dtype: float64\n",
      "Research    0.586154\n",
      "LOR         0.464501\n",
      "TOEFL       0.461083\n",
      "GRE         0.362637\n",
      "CGPA        0.240737\n",
      "Name: 2, dtype: float64\n",
      "LOR       0.648595\n",
      "Rating    0.641734\n",
      "SOP       0.326854\n",
      "GRE       0.144823\n",
      "CGPA      0.136658\n",
      "Name: 3, dtype: float64\n",
      "SOP         0.762766\n",
      "Rating      0.606980\n",
      "LOR         0.211117\n",
      "GRE         0.047792\n",
      "Research    0.040311\n",
      "Name: 4, dtype: float64\n"
     ]
    }
   ],
   "source": [
    "for i in pca_result_t.columns:\n",
    "    print(pca_result_t[i].nlargest(5))"
   ]
  },
  {
   "cell_type": "markdown",
   "metadata": {},
   "source": [
    "Top four are CGPA, Research, LOR and SOP\n",
    "<br>So in the reduced dataset, only these four attributes will remain"
   ]
  },
  {
   "cell_type": "code",
   "execution_count": 232,
   "metadata": {},
   "outputs": [],
   "source": [
    "data_reduced = data[['CGPA','Research','LOR','SOP','Chance']]"
   ]
  },
  {
   "cell_type": "code",
   "execution_count": 233,
   "metadata": {},
   "outputs": [],
   "source": [
    "x_reduced=data_reduced.drop('Chance',axis=1)\n",
    "y_reduced=data_reduced['Chance']\n",
    "x_reduced_train, x_reduced_test,y_reduced_train, y_reduced_test = train_test_split(x_reduced,y_reduced,test_size = 0.20,random_state = 42)"
   ]
  },
  {
   "cell_type": "code",
   "execution_count": 234,
   "metadata": {},
   "outputs": [
    {
     "data": {
      "text/plain": [
       "0.8258272642105396"
      ]
     },
     "execution_count": 234,
     "metadata": {},
     "output_type": "execute_result"
    }
   ],
   "source": [
    "scaler=StandardScaler()\n",
    "x_reduced_train=scaler.fit_transform(x_reduced_train)\n",
    "x_reduced_test=scaler.transform(x_reduced_test)\n",
    "reg=LinearRegression().fit(x_reduced_train,y_reduced_train)\n",
    "reg.score(x_reduced_test,y_reduced_test)"
   ]
  },
  {
   "cell_type": "markdown",
   "metadata": {},
   "source": [
    "Even better than without dimension reduction "
   ]
  },
  {
   "cell_type": "code",
   "execution_count": 236,
   "metadata": {},
   "outputs": [
    {
     "name": "stdout",
     "output_type": "stream",
     "text": [
      "Epoch 1/200\n",
      "400/400 [==============================] - 0s 527us/step - loss: 0.0216\n",
      "Epoch 2/200\n",
      "400/400 [==============================] - 0s 35us/step - loss: 0.0124\n",
      "Epoch 3/200\n",
      "400/400 [==============================] - 0s 35us/step - loss: 0.0084\n",
      "Epoch 4/200\n",
      "400/400 [==============================] - 0s 35us/step - loss: 0.0068\n",
      "Epoch 5/200\n",
      "400/400 [==============================] - 0s 35us/step - loss: 0.0060\n",
      "Epoch 6/200\n",
      "400/400 [==============================] - 0s 37us/step - loss: 0.0061\n",
      "Epoch 7/200\n",
      "400/400 [==============================] - 0s 37us/step - loss: 0.0056\n",
      "Epoch 8/200\n",
      "400/400 [==============================] - 0s 35us/step - loss: 0.0054\n",
      "Epoch 9/200\n",
      "400/400 [==============================] - 0s 35us/step - loss: 0.0054\n",
      "Epoch 10/200\n",
      "400/400 [==============================] - 0s 35us/step - loss: 0.0051\n",
      "Epoch 11/200\n",
      "400/400 [==============================] - 0s 37us/step - loss: 0.0054\n",
      "Epoch 12/200\n",
      "400/400 [==============================] - 0s 32us/step - loss: 0.0055\n",
      "Epoch 13/200\n",
      "400/400 [==============================] - 0s 42us/step - loss: 0.0052\n",
      "Epoch 14/200\n",
      "400/400 [==============================] - 0s 35us/step - loss: 0.0051\n",
      "Epoch 15/200\n",
      "400/400 [==============================] - 0s 37us/step - loss: 0.0050\n",
      "Epoch 16/200\n",
      "400/400 [==============================] - 0s 37us/step - loss: 0.0050\n",
      "Epoch 17/200\n",
      "400/400 [==============================] - 0s 38us/step - loss: 0.0050\n",
      "Epoch 18/200\n",
      "400/400 [==============================] - 0s 35us/step - loss: 0.0052\n",
      "Epoch 19/200\n",
      "400/400 [==============================] - 0s 37us/step - loss: 0.0048\n",
      "Epoch 20/200\n",
      "400/400 [==============================] - 0s 35us/step - loss: 0.0051\n",
      "Epoch 21/200\n",
      "400/400 [==============================] - 0s 38us/step - loss: 0.0051\n",
      "Epoch 22/200\n",
      "400/400 [==============================] - 0s 38us/step - loss: 0.0052\n",
      "Epoch 23/200\n",
      "400/400 [==============================] - 0s 40us/step - loss: 0.0049\n",
      "Epoch 24/200\n",
      "400/400 [==============================] - 0s 38us/step - loss: 0.0053\n",
      "Epoch 25/200\n",
      "400/400 [==============================] - 0s 45us/step - loss: 0.0048\n",
      "Epoch 26/200\n",
      "400/400 [==============================] - 0s 38us/step - loss: 0.0047\n",
      "Epoch 27/200\n",
      "400/400 [==============================] - 0s 42us/step - loss: 0.0052\n",
      "Epoch 28/200\n",
      "400/400 [==============================] - 0s 35us/step - loss: 0.0051\n",
      "Epoch 29/200\n",
      "400/400 [==============================] - 0s 35us/step - loss: 0.0048\n",
      "Epoch 30/200\n",
      "400/400 [==============================] - 0s 35us/step - loss: 0.0049\n",
      "Epoch 31/200\n",
      "400/400 [==============================] - 0s 37us/step - loss: 0.0048\n",
      "Epoch 32/200\n",
      "400/400 [==============================] - 0s 37us/step - loss: 0.0050\n",
      "Epoch 33/200\n",
      "400/400 [==============================] - 0s 40us/step - loss: 0.0051\n",
      "Epoch 34/200\n",
      "400/400 [==============================] - 0s 37us/step - loss: 0.0051\n",
      "Epoch 35/200\n",
      "400/400 [==============================] - 0s 38us/step - loss: 0.0049\n",
      "Epoch 36/200\n",
      "400/400 [==============================] - 0s 40us/step - loss: 0.0052\n",
      "Epoch 37/200\n",
      "400/400 [==============================] - 0s 35us/step - loss: 0.0049\n",
      "Epoch 38/200\n",
      "400/400 [==============================] - 0s 37us/step - loss: 0.0053\n",
      "Epoch 39/200\n",
      "400/400 [==============================] - 0s 43us/step - loss: 0.0050\n",
      "Epoch 40/200\n",
      "400/400 [==============================] - 0s 40us/step - loss: 0.0053\n",
      "Epoch 41/200\n",
      "400/400 [==============================] - 0s 35us/step - loss: 0.0048\n",
      "Epoch 42/200\n",
      "400/400 [==============================] - 0s 40us/step - loss: 0.0053\n",
      "Epoch 43/200\n",
      "400/400 [==============================] - 0s 35us/step - loss: 0.0050\n",
      "Epoch 44/200\n",
      "400/400 [==============================] - 0s 37us/step - loss: 0.0050\n",
      "Epoch 45/200\n",
      "400/400 [==============================] - 0s 38us/step - loss: 0.0049\n",
      "Epoch 46/200\n",
      "400/400 [==============================] - 0s 40us/step - loss: 0.0050\n",
      "Epoch 47/200\n",
      "400/400 [==============================] - 0s 38us/step - loss: 0.0049\n",
      "Epoch 48/200\n",
      "400/400 [==============================] - 0s 40us/step - loss: 0.0052\n",
      "Epoch 49/200\n",
      "400/400 [==============================] - 0s 35us/step - loss: 0.0051\n",
      "Epoch 50/200\n",
      "400/400 [==============================] - 0s 35us/step - loss: 0.0052\n",
      "Epoch 51/200\n",
      "400/400 [==============================] - 0s 37us/step - loss: 0.0049\n",
      "Epoch 52/200\n",
      "400/400 [==============================] - 0s 35us/step - loss: 0.0048\n",
      "Epoch 53/200\n",
      "400/400 [==============================] - 0s 37us/step - loss: 0.0051\n",
      "Epoch 54/200\n",
      "400/400 [==============================] - 0s 40us/step - loss: 0.0049\n",
      "Epoch 55/200\n",
      "400/400 [==============================] - 0s 35us/step - loss: 0.0047\n",
      "Epoch 56/200\n",
      "400/400 [==============================] - 0s 45us/step - loss: 0.0049\n",
      "Epoch 57/200\n",
      "400/400 [==============================] - 0s 38us/step - loss: 0.0052\n",
      "Epoch 58/200\n",
      "400/400 [==============================] - 0s 45us/step - loss: 0.0049\n",
      "Epoch 59/200\n",
      "400/400 [==============================] - 0s 35us/step - loss: 0.0048\n",
      "Epoch 60/200\n",
      "400/400 [==============================] - 0s 38us/step - loss: 0.0051\n",
      "Epoch 61/200\n",
      "400/400 [==============================] - 0s 32us/step - loss: 0.0046\n",
      "Epoch 62/200\n",
      "400/400 [==============================] - 0s 38us/step - loss: 0.0047\n",
      "Epoch 63/200\n",
      "400/400 [==============================] - 0s 35us/step - loss: 0.0048\n",
      "Epoch 64/200\n",
      "400/400 [==============================] - 0s 35us/step - loss: 0.0044\n",
      "Epoch 65/200\n",
      "400/400 [==============================] - 0s 35us/step - loss: 0.0047\n",
      "Epoch 66/200\n",
      "400/400 [==============================] - 0s 35us/step - loss: 0.0049\n",
      "Epoch 67/200\n",
      "400/400 [==============================] - 0s 37us/step - loss: 0.0047\n",
      "Epoch 68/200\n",
      "400/400 [==============================] - 0s 35us/step - loss: 0.0045\n",
      "Epoch 69/200\n",
      "400/400 [==============================] - 0s 37us/step - loss: 0.0051\n",
      "Epoch 70/200\n",
      "400/400 [==============================] - 0s 40us/step - loss: 0.0043\n",
      "Epoch 71/200\n",
      "400/400 [==============================] - 0s 35us/step - loss: 0.0049\n",
      "Epoch 72/200\n",
      "400/400 [==============================] - 0s 38us/step - loss: 0.0046\n",
      "Epoch 73/200\n",
      "400/400 [==============================] - 0s 35us/step - loss: 0.0047\n",
      "Epoch 74/200\n",
      "400/400 [==============================] - 0s 35us/step - loss: 0.0045\n",
      "Epoch 75/200\n",
      "400/400 [==============================] - 0s 35us/step - loss: 0.0046\n",
      "Epoch 76/200\n",
      "400/400 [==============================] - 0s 38us/step - loss: 0.0050\n",
      "Epoch 77/200\n",
      "400/400 [==============================] - 0s 35us/step - loss: 0.0043\n",
      "Epoch 78/200\n",
      "400/400 [==============================] - 0s 43us/step - loss: 0.0048\n",
      "Epoch 79/200\n",
      "400/400 [==============================] - 0s 38us/step - loss: 0.0043\n",
      "Epoch 80/200\n",
      "400/400 [==============================] - 0s 35us/step - loss: 0.0048\n",
      "Epoch 81/200\n",
      "400/400 [==============================] - 0s 38us/step - loss: 0.0046\n",
      "Epoch 82/200\n",
      "400/400 [==============================] - 0s 37us/step - loss: 0.0044\n",
      "Epoch 83/200\n",
      "400/400 [==============================] - 0s 35us/step - loss: 0.0045\n",
      "Epoch 84/200\n",
      "400/400 [==============================] - 0s 37us/step - loss: 0.0042\n",
      "Epoch 85/200\n",
      "400/400 [==============================] - 0s 37us/step - loss: 0.0042\n",
      "Epoch 86/200\n",
      "400/400 [==============================] - 0s 38us/step - loss: 0.0042\n",
      "Epoch 87/200\n",
      "400/400 [==============================] - 0s 35us/step - loss: 0.0045\n",
      "Epoch 88/200\n",
      "400/400 [==============================] - 0s 37us/step - loss: 0.0046\n",
      "Epoch 89/200\n",
      "400/400 [==============================] - 0s 40us/step - loss: 0.0043\n",
      "Epoch 90/200\n",
      "400/400 [==============================] - 0s 35us/step - loss: 0.0044\n",
      "Epoch 91/200\n",
      "400/400 [==============================] - 0s 35us/step - loss: 0.0045\n",
      "Epoch 92/200\n",
      "400/400 [==============================] - 0s 35us/step - loss: 0.0040\n",
      "Epoch 93/200\n",
      "400/400 [==============================] - 0s 33us/step - loss: 0.0042\n",
      "Epoch 94/200\n",
      "400/400 [==============================] - 0s 35us/step - loss: 0.0044\n",
      "Epoch 95/200\n",
      "400/400 [==============================] - 0s 35us/step - loss: 0.0042\n",
      "Epoch 96/200\n",
      "400/400 [==============================] - 0s 37us/step - loss: 0.0045\n",
      "Epoch 97/200\n",
      "400/400 [==============================] - 0s 40us/step - loss: 0.0040\n",
      "Epoch 98/200\n"
     ]
    },
    {
     "name": "stdout",
     "output_type": "stream",
     "text": [
      "400/400 [==============================] - 0s 37us/step - loss: 0.0044\n",
      "Epoch 99/200\n",
      "400/400 [==============================] - 0s 35us/step - loss: 0.0044\n",
      "Epoch 100/200\n",
      "400/400 [==============================] - 0s 37us/step - loss: 0.0041\n",
      "Epoch 101/200\n",
      "400/400 [==============================] - 0s 35us/step - loss: 0.0043\n",
      "Epoch 102/200\n",
      "400/400 [==============================] - 0s 35us/step - loss: 0.0043\n",
      "Epoch 103/200\n",
      "400/400 [==============================] - 0s 35us/step - loss: 0.0043\n",
      "Epoch 104/200\n",
      "400/400 [==============================] - 0s 35us/step - loss: 0.0043\n",
      "Epoch 105/200\n",
      "400/400 [==============================] - 0s 37us/step - loss: 0.0044\n",
      "Epoch 106/200\n",
      "400/400 [==============================] - 0s 38us/step - loss: 0.0043\n",
      "Epoch 107/200\n",
      "400/400 [==============================] - 0s 38us/step - loss: 0.0041\n",
      "Epoch 108/200\n",
      "400/400 [==============================] - 0s 38us/step - loss: 0.0041\n",
      "Epoch 109/200\n",
      "400/400 [==============================] - 0s 37us/step - loss: 0.0042\n",
      "Epoch 110/200\n",
      "400/400 [==============================] - 0s 35us/step - loss: 0.0044\n",
      "Epoch 111/200\n",
      "400/400 [==============================] - 0s 35us/step - loss: 0.0041\n",
      "Epoch 112/200\n",
      "400/400 [==============================] - 0s 35us/step - loss: 0.0041\n",
      "Epoch 113/200\n",
      "400/400 [==============================] - 0s 35us/step - loss: 0.0044\n",
      "Epoch 114/200\n",
      "400/400 [==============================] - 0s 35us/step - loss: 0.0041\n",
      "Epoch 115/200\n",
      "400/400 [==============================] - 0s 35us/step - loss: 0.0041\n",
      "Epoch 116/200\n",
      "400/400 [==============================] - 0s 35us/step - loss: 0.0046\n",
      "Epoch 117/200\n",
      "400/400 [==============================] - 0s 35us/step - loss: 0.0040\n",
      "Epoch 118/200\n",
      "400/400 [==============================] - 0s 35us/step - loss: 0.0041\n",
      "Epoch 119/200\n",
      "400/400 [==============================] - 0s 35us/step - loss: 0.0045\n",
      "Epoch 120/200\n",
      "400/400 [==============================] - 0s 35us/step - loss: 0.0040\n",
      "Epoch 121/200\n",
      "400/400 [==============================] - 0s 35us/step - loss: 0.0042\n",
      "Epoch 122/200\n",
      "400/400 [==============================] - 0s 35us/step - loss: 0.0041\n",
      "Epoch 123/200\n",
      "400/400 [==============================] - 0s 35us/step - loss: 0.0041\n",
      "Epoch 124/200\n",
      "400/400 [==============================] - 0s 35us/step - loss: 0.0046\n",
      "Epoch 125/200\n",
      "400/400 [==============================] - 0s 33us/step - loss: 0.0041\n",
      "Epoch 126/200\n",
      "400/400 [==============================] - 0s 35us/step - loss: 0.0042\n",
      "Epoch 127/200\n",
      "400/400 [==============================] - 0s 40us/step - loss: 0.0043\n",
      "Epoch 128/200\n",
      "400/400 [==============================] - 0s 35us/step - loss: 0.0042\n",
      "Epoch 129/200\n",
      "400/400 [==============================] - 0s 35us/step - loss: 0.0040\n",
      "Epoch 130/200\n",
      "400/400 [==============================] - 0s 38us/step - loss: 0.0043\n",
      "Epoch 131/200\n",
      "400/400 [==============================] - 0s 38us/step - loss: 0.0042\n",
      "Epoch 132/200\n",
      "400/400 [==============================] - 0s 35us/step - loss: 0.0040\n",
      "Epoch 133/200\n",
      "400/400 [==============================] - 0s 35us/step - loss: 0.0043\n",
      "Epoch 134/200\n",
      "400/400 [==============================] - 0s 35us/step - loss: 0.0042\n",
      "Epoch 135/200\n",
      "400/400 [==============================] - 0s 35us/step - loss: 0.0044\n",
      "Epoch 136/200\n",
      "400/400 [==============================] - 0s 35us/step - loss: 0.0043\n",
      "Epoch 137/200\n",
      "400/400 [==============================] - 0s 35us/step - loss: 0.0041\n",
      "Epoch 138/200\n",
      "400/400 [==============================] - 0s 35us/step - loss: 0.0042\n",
      "Epoch 139/200\n",
      "400/400 [==============================] - 0s 38us/step - loss: 0.0041\n",
      "Epoch 140/200\n",
      "400/400 [==============================] - 0s 35us/step - loss: 0.0041\n",
      "Epoch 141/200\n",
      "400/400 [==============================] - 0s 38us/step - loss: 0.0042\n",
      "Epoch 142/200\n",
      "400/400 [==============================] - 0s 35us/step - loss: 0.0044\n",
      "Epoch 143/200\n",
      "400/400 [==============================] - 0s 35us/step - loss: 0.0041\n",
      "Epoch 144/200\n",
      "400/400 [==============================] - 0s 38us/step - loss: 0.0040\n",
      "Epoch 145/200\n",
      "400/400 [==============================] - 0s 35us/step - loss: 0.0041\n",
      "Epoch 146/200\n",
      "400/400 [==============================] - 0s 35us/step - loss: 0.0041\n",
      "Epoch 147/200\n",
      "400/400 [==============================] - 0s 38us/step - loss: 0.0041\n",
      "Epoch 148/200\n",
      "400/400 [==============================] - 0s 35us/step - loss: 0.0042\n",
      "Epoch 149/200\n",
      "400/400 [==============================] - 0s 35us/step - loss: 0.0043\n",
      "Epoch 150/200\n",
      "400/400 [==============================] - 0s 37us/step - loss: 0.0038\n",
      "Epoch 151/200\n",
      "400/400 [==============================] - 0s 35us/step - loss: 0.0044\n",
      "Epoch 152/200\n",
      "400/400 [==============================] - 0s 35us/step - loss: 0.0044\n",
      "Epoch 153/200\n",
      "400/400 [==============================] - 0s 37us/step - loss: 0.0044\n",
      "Epoch 154/200\n",
      "400/400 [==============================] - 0s 35us/step - loss: 0.0042\n",
      "Epoch 155/200\n",
      "400/400 [==============================] - 0s 35us/step - loss: 0.0042\n",
      "Epoch 156/200\n",
      "400/400 [==============================] - 0s 35us/step - loss: 0.0044\n",
      "Epoch 157/200\n",
      "400/400 [==============================] - 0s 35us/step - loss: 0.0041\n",
      "Epoch 158/200\n",
      "400/400 [==============================] - 0s 35us/step - loss: 0.0041\n",
      "Epoch 159/200\n",
      "400/400 [==============================] - 0s 37us/step - loss: 0.0041\n",
      "Epoch 160/200\n",
      "400/400 [==============================] - 0s 37us/step - loss: 0.0042\n",
      "Epoch 161/200\n",
      "400/400 [==============================] - 0s 35us/step - loss: 0.0040\n",
      "Epoch 162/200\n",
      "400/400 [==============================] - 0s 35us/step - loss: 0.0043\n",
      "Epoch 163/200\n",
      "400/400 [==============================] - 0s 38us/step - loss: 0.0039\n",
      "Epoch 164/200\n",
      "400/400 [==============================] - 0s 38us/step - loss: 0.0043\n",
      "Epoch 165/200\n",
      "400/400 [==============================] - 0s 37us/step - loss: 0.0043\n",
      "Epoch 166/200\n",
      "400/400 [==============================] - 0s 35us/step - loss: 0.0040\n",
      "Epoch 167/200\n",
      "400/400 [==============================] - 0s 37us/step - loss: 0.0041\n",
      "Epoch 168/200\n",
      "400/400 [==============================] - 0s 33us/step - loss: 0.0040\n",
      "Epoch 169/200\n",
      "400/400 [==============================] - 0s 38us/step - loss: 0.0042\n",
      "Epoch 170/200\n",
      "400/400 [==============================] - 0s 33us/step - loss: 0.0040\n",
      "Epoch 171/200\n",
      "400/400 [==============================] - 0s 35us/step - loss: 0.0041\n",
      "Epoch 172/200\n",
      "400/400 [==============================] - 0s 37us/step - loss: 0.0043\n",
      "Epoch 173/200\n",
      "400/400 [==============================] - 0s 35us/step - loss: 0.0041\n",
      "Epoch 174/200\n",
      "400/400 [==============================] - 0s 35us/step - loss: 0.0040\n",
      "Epoch 175/200\n",
      "400/400 [==============================] - 0s 35us/step - loss: 0.0042\n",
      "Epoch 176/200\n",
      "400/400 [==============================] - 0s 35us/step - loss: 0.0041\n",
      "Epoch 177/200\n",
      "400/400 [==============================] - 0s 33us/step - loss: 0.0041\n",
      "Epoch 178/200\n",
      "400/400 [==============================] - 0s 35us/step - loss: 0.0042\n",
      "Epoch 179/200\n",
      "400/400 [==============================] - 0s 35us/step - loss: 0.0040\n",
      "Epoch 180/200\n",
      "400/400 [==============================] - 0s 35us/step - loss: 0.0042\n",
      "Epoch 181/200\n",
      "400/400 [==============================] - 0s 35us/step - loss: 0.0042\n",
      "Epoch 182/200\n",
      "400/400 [==============================] - 0s 37us/step - loss: 0.0042\n",
      "Epoch 183/200\n",
      "400/400 [==============================] - 0s 35us/step - loss: 0.0042\n",
      "Epoch 184/200\n",
      "400/400 [==============================] - 0s 35us/step - loss: 0.0039\n",
      "Epoch 185/200\n",
      "400/400 [==============================] - 0s 35us/step - loss: 0.0042\n",
      "Epoch 186/200\n",
      "400/400 [==============================] - 0s 35us/step - loss: 0.0042\n",
      "Epoch 187/200\n",
      "400/400 [==============================] - 0s 35us/step - loss: 0.0041\n",
      "Epoch 188/200\n",
      "400/400 [==============================] - 0s 35us/step - loss: 0.0041\n",
      "Epoch 189/200\n",
      "400/400 [==============================] - 0s 38us/step - loss: 0.0041\n",
      "Epoch 190/200\n",
      "400/400 [==============================] - 0s 37us/step - loss: 0.0039\n",
      "Epoch 191/200\n",
      "400/400 [==============================] - 0s 35us/step - loss: 0.0040\n",
      "Epoch 192/200\n",
      "400/400 [==============================] - 0s 35us/step - loss: 0.0044\n",
      "Epoch 193/200\n",
      "400/400 [==============================] - 0s 37us/step - loss: 0.0041\n",
      "Epoch 194/200\n"
     ]
    },
    {
     "name": "stdout",
     "output_type": "stream",
     "text": [
      "400/400 [==============================] - 0s 38us/step - loss: 0.0042\n",
      "Epoch 195/200\n",
      "400/400 [==============================] - 0s 35us/step - loss: 0.0042\n",
      "Epoch 196/200\n",
      "400/400 [==============================] - 0s 37us/step - loss: 0.0039\n",
      "Epoch 197/200\n",
      "400/400 [==============================] - 0s 35us/step - loss: 0.0042\n",
      "Epoch 198/200\n",
      "400/400 [==============================] - 0s 40us/step - loss: 0.0041\n",
      "Epoch 199/200\n",
      "400/400 [==============================] - 0s 32us/step - loss: 0.0041\n",
      "Epoch 200/200\n",
      "400/400 [==============================] - 0s 35us/step - loss: 0.0044\n"
     ]
    },
    {
     "data": {
      "text/plain": [
       "0.7193539991527353"
      ]
     },
     "execution_count": 236,
     "metadata": {},
     "output_type": "execute_result"
    }
   ],
   "source": [
    "def keralmodel():\n",
    "    model = Sequential()\n",
    "    model.add(Dense(4,input_dim=4,kernel_initializer='normal',activation='sigmoid'))\n",
    "    model.add(Dense(2,kernel_initializer='normal',activation='sigmoid'))\n",
    "    model.add(Dense(1,kernel_initializer='normal',activation='sigmoid'))\n",
    "    model.compile(optimizer=optimizers.RMSprop(lr=0.05),loss='mean_squared_error')\n",
    "    return model\n",
    "\n",
    "estimator=KerasRegressor(build_fn=keralmodel, epochs=200)\n",
    "estimator.fit(x_reduced_train,y_reduced_train)\n",
    "y_reduce_predict=estimator.predict(x_reduced_test)\n",
    "r2_score(y_reduced_test,y_reduce_predict)"
   ]
  },
  {
   "cell_type": "markdown",
   "metadata": {},
   "source": [
    "R square from neural network is reduced by 6% to 72%"
   ]
  }
 ],
 "metadata": {
  "kernelspec": {
   "display_name": "Python 3",
   "language": "python",
   "name": "python3"
  },
  "language_info": {
   "codemirror_mode": {
    "name": "ipython",
    "version": 3
   },
   "file_extension": ".py",
   "mimetype": "text/x-python",
   "name": "python",
   "nbconvert_exporter": "python",
   "pygments_lexer": "ipython3",
   "version": "3.5.5"
  }
 },
 "nbformat": 4,
 "nbformat_minor": 2
}
